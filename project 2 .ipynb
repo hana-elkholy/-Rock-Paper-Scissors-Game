{
 "cells": [
  {
   "cell_type": "code",
   "execution_count": 7,
   "id": "66706ee6",
   "metadata": {},
   "outputs": [
    {
     "name": "stdout",
     "output_type": "stream",
     "text": [
      "1st choice :r\n",
      "2st choice :p\n"
     ]
    }
   ],
   "source": [
    "player1 = input('1st choice :').lower()[0]\n",
    "player2 = input('2st choice :').lower()[0]"
   ]
  },
  {
   "cell_type": "code",
   "execution_count": 8,
   "id": "100246d0",
   "metadata": {},
   "outputs": [
    {
     "name": "stdout",
     "output_type": "stream",
     "text": [
      "paper wins\n"
     ]
    }
   ],
   "source": [
    "if ( player1 == 'r' and player2==\"s\") or (player1 == 's' and player2==\"r\"):\n",
    "    print('rock wins')\n",
    "elif (player1 == 'p' and player2== \"r\") or (player1 == 'r' and player2==\"p\"):\n",
    "    print('paper wins')\n",
    "elif (player1 == 's' and player2 ==\"p\") or (player1 == 'p' and player2==\"s\"):\n",
    "    print('scissor wins')\n",
    "else:\n",
    "    print('wrong')"
   ]
  },
  {
   "cell_type": "code",
   "execution_count": 10,
   "id": "581d716d",
   "metadata": {},
   "outputs": [
    {
     "name": "stdout",
     "output_type": "stream",
     "text": [
      "choices:\n",
      " rock\n",
      " paper\n",
      " scissor\n",
      "\n",
      "1st choice :rock\n",
      "2st choice :paper\n",
      "paper wins\n",
      "do u want to play again ? (n or N to quit) press any key to continue \n",
      " u\n",
      "choices:\n",
      " rock\n",
      " paper\n",
      " scissor\n",
      "\n",
      "1st choice :scissor \n",
      "2st choice :paper\n",
      "scissor wins\n",
      "do u want to play again ? (n or N to quit) press any key to continue \n",
      " n\n"
     ]
    }
   ],
   "source": [
    "while True :\n",
    "    print('choices:\\n rock\\n paper\\n scissor\\n')\n",
    "    player1 = input('1st choice :').lower()[0]\n",
    "    while player1 not in ['r','p','s']:\n",
    "        print('please enter a valid choice')\n",
    "        player1 = input('1st choice :').lower()[0]\n",
    "    player2 = input('2st choice :').lower()[0]\n",
    "    while player2 not in ['r','p','s']:\n",
    "        print('please enter a valid choice')\n",
    "        player2 = input('2st choice :').lower()[0]\n",
    "    \n",
    "    if ( player1 == 'r' and player2==\"s\") or (player1 == 's' and player2==\"r\"):\n",
    "        print('rock wins')\n",
    "    elif (player1 == 'p' and player2== \"r\") or (player1 == 'r' and player2==\"p\"):\n",
    "        print('paper wins')\n",
    "    elif (player1 == 's' and player2 ==\"p\") or (player1 == 'p' and player2==\"s\"):\n",
    "        print('scissor wins')\n",
    "    else:\n",
    "        print('wrong')\n",
    "    contin = input('do u want to play again ? (n or N to quit) press any key to continue \\n ')\n",
    "    if contin.lower() == 'n':\n",
    "        break "
   ]
  },
  {
   "cell_type": "code",
   "execution_count": null,
   "id": "9c61b002",
   "metadata": {},
   "outputs": [],
   "source": []
  },
  {
   "cell_type": "code",
   "execution_count": null,
   "id": "9c9664ba",
   "metadata": {},
   "outputs": [],
   "source": []
  },
  {
   "cell_type": "code",
   "execution_count": null,
   "id": "7043b2b4",
   "metadata": {},
   "outputs": [],
   "source": [
    "from random import choice , randint \n",
    "choice(['r','p','s'])\n",
    "\n",
    "user_score = 0 \n",
    "comp_score = 0 \n",
    "while True :\n",
    "    print('choices:\\n rock\\n paper\\n scissor\\n')\n",
    "    userplayer1 = input('1st choice :').lower()[0]\n",
    "    while player1 not in ['r','p','s']:\n",
    "        print('please enter a valid choice')\n",
    "        player1 = input('1st choice :').lower()[0]\n",
    "    \n",
    "    comp= choice(['r','p','s'])\n",
    "    dct = {'r':'rock', 'p':'paper', 's':'scissor'}\n",
    "    print(f\"computer choice : {dct[comp]}\") 
    "    \n",
    "    if ( userplayer1 == 'r' and comp==\"s\") or (userplayer1 == 's' and comp==\"r\"):\n",
    "        print('rock wins')\n",
    "        result = 'rock'\n",
    "    elif (userplayer1 == 'p' and comp== \"r\") or (userplayer1 == 'r' and comp==\"p\"):\n",
    "        print('paper wins')\n",
    "        result = 'paper'\n",
    "    elif (userplayer1 == 's' and comp==\"p\") or (userplayer1 == 'p' and comp==\"s\"):\n",
    "        print('scissor wins')\n",
    "        result= 'scissor'\n",
    "    else:\n",
    "        print('wrong')\n",
    "        result = \"no\"\n",
    "    print(f\"{result} wins\")\n",
    "    \n",
    "    if userplayer1 == result :\n",
    "         user_score += 1 \n",
    "    elif comp == result :\n",
    "        comp_score += 1 \n",
    "    else:\n",
    "        pass\n",
    "    \n",
    "    contin = input('do u want to play again ? (n or N to quit) press any key to continue \\n ')\n",
    "    if contin.lower() == 'n':\n",
    "        break \n",
    "print(f\"user score :{user_score}\")\n",
    "print(f\"computer score :{comp_score}\")"
   ]
  },
  {
   "cell_type": "code",
   "execution_count": 1,
   "id": "da5b6eba",
   "metadata": {},
   "outputs": [
    {
     "name": "stdout",
     "output_type": "stream",
     "text": [
      "Choices:\n",
      " rock (r)\n",
      " paper (p)\n",
      " scissor (s)\n",
      "\n",
      "Your choice: rock\n",
      "Computer choice: paper\n",
      "Computer wins this round!\n",
      "Score → You: 0 | Computer: 1\n",
      "Do you want to play again? (N to quit): f\n",
      "Choices:\n",
      " rock (r)\n",
      " paper (p)\n",
      " scissor (s)\n",
      "\n",
      "Your choice: f\n",
      "Please enter a valid choice (r/p/s)\n",
      "Your choice: w\n",
      "Please enter a valid choice (r/p/s)\n",
      "Your choice: paper\n",
      "Computer choice: scissor\n",
      "Computer wins this round!\n",
      "Score → You: 0 | Computer: 2\n",
      "Do you want to play again? (N to quit): n\n",
      "\n",
      "Final Scores:\n",
      "You: 0\n",
      "Computer: 2\n"
     ]
    }
   ],
   "source": [
    "from random import choice\n",
    "\n",
    "user_score = 0 \n",
    "comp_score = 0 \n",
    "\n",
    "while True:\n",
    "    print('Choices:\\n rock (r)\\n paper (p)\\n scissor (s)\\n')\n",
    "    \n",
    "    userplayer1 = input('Your choice: ').lower()[0] \n",
    "    while userplayer1 not in ['r','p','s']:\n",
    "        print('Please enter a valid choice (r/p/s)')\n",
    "        userplayer1 = input('Your choice: ').lower()[0]\n",
    "    \n",
    "    comp = choice(['r','p','s'])    # ndet 3la choice feh random w adeto el a5tyrat\n",
    "    dct = {'r':'rock', 'p':'paper', 's':'scissor'}\n",
    "    print('Computer choice:' , dct[comp])\n",
    "    \n",
    "    if (userplayer1 == 'r' and comp == 's') or (userplayer1 == 's' and comp == 'p') or (userplayer1 == 'p' and comp == 'r'):\n",
    "        print(\"You win this round!\")\n",
    "        user_score += 1\n",
    "    elif userplayer1 == comp:\n",
    "        print(\"It's a tie!\")\n",
    "    else:\n",
    "        print(\"Computer wins this round!\")\n",
    "        comp_score += 1\n",
    "    \n",
    "   \n",
    "    print(f\"Score → You: {user_score} | Computer: {comp_score}\")\n",
    "    \n",
    "   \n",
    "    contin = input('Do you want to play again? (N to quit): ')\n",
    "    if contin.lower() == 'n':\n",
    "        break\n",
    "\n",
    "print(f\"\\nFinal Scores:\\nYou: {user_score}\\nComputer: {comp_score}\")\n"
   ]
  },
  {
   "cell_type": "code",
   "execution_count": null,
   "id": "dfa3d6f4",
   "metadata": {},
   "outputs": [],
   "source": []
  },
  {
   "cell_type": "code",
   "execution_count": null,
   "id": "7e160fde",
   "metadata": {},
   "outputs": [],
   "source": []
  }
 ],
 "metadata": {
  "kernelspec": {
   "display_name": "Python 3 (ipykernel)",
   "language": "python",
   "name": "python3"
  },
  "language_info": {
   "codemirror_mode": {
    "name": "ipython",
    "version": 3
   },
   "file_extension": ".py",
   "mimetype": "text/x-python",
   "name": "python",
   "nbconvert_exporter": "python",
   "pygments_lexer": "ipython3",
   "version": "3.11.5"
  }
 },
 "nbformat": 4,
 "nbformat_minor": 5
}
